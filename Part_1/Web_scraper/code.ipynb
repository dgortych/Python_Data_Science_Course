{
 "cells": [
  {
   "cell_type": "markdown",
   "metadata": {},
   "source": [
    "# Link Web Scraper "
   ]
  },
  {
   "cell_type": "code",
   "execution_count": 57,
   "metadata": {},
   "outputs": [],
   "source": [
    "from bs4 import BeautifulSoup\n",
    "import urllib.request\n",
    "from IPython.display import HTML\n",
    "import re"
   ]
  },
  {
   "cell_type": "code",
   "execution_count": 72,
   "metadata": {},
   "outputs": [],
   "source": [
    "site_address = \"https://www.agh.edu.pl/\"\n",
    "file = urllib.request.urlopen(site_address).read()\n",
    "soup = BeautifulSoup(file, \"lxml\")"
   ]
  },
  {
   "cell_type": "code",
   "execution_count": 76,
   "metadata": {},
   "outputs": [
    {
     "name": "stdout",
     "output_type": "stream",
     "text": [
      "https://skos.agh.edu.pl/\n",
      "https://www.agh.edu.pl/aktualnosci/detail/agh-space-systems-zwyciezca-kosmicznej-rywalizacji-erc-2022\n",
      "https://rekrutacja.agh.edu.pl/\n",
      "https://www.agh.edu.pl/nauka/artykuly/detail/agh-z-wysokimi-ocenami-w-ewaluacji-jakosci-dzialalnosci-naukowej\n",
      "https://www.agh.edu.pl/o-agh/multimedia/filmy\n",
      "https://spotkania.agh.edu.pl/nagrania/\n",
      "https://www.youtube.com/c/bunkiernauki\n",
      "https://idub.agh.edu.pl\n",
      "https://www.universeh.agh.edu.pl/\n",
      "https://www.goetel.agh.edu.pl/\n",
      "https://rekrutacja.agh.edu.pl/kierunki-studiow/\n",
      "https://podyplomowe.agh.edu.pl\n",
      "https://open.agh.edu.pl/\n",
      "https://bip.malopolska.pl/agh\n",
      "http://www.dzp.agh.edu.pl/\n",
      "https://www.promocja.agh.edu.pl/wspolpraca-z-mediami/\n",
      "https://www.promocja.agh.edu.pl/patronat-rektora-agh/\n",
      "https://sklep.agh.edu.pl/\n",
      "https://skos.agh.edu.pl\n",
      "https://bezpieczenstwo.agh.edu.pl/komunikaty-i-ostrzezenia/\n",
      "https://poczta.agh.edu.pl\n",
      "https://www.youtube.com/user/tvagh/\n",
      "https://www.facebook.com/AGH.Krakow\n",
      "https://pl.linkedin.com/edu/agh-university-of-science-and-technology-15906\n",
      "https://twitter.com/AGH_Krakow/\n",
      "https://www.instagram.com/agh.krakow/\n",
      "https://vm.tiktok.com/ZM8tR6cES/\n"
     ]
    }
   ],
   "source": [
    "file = open(\"parsed_data.txt\", \"w+\")\n",
    "for link in soup.findAll('a', attrs={'href': re.compile(\"^http\")}):\n",
    "    soup_link = str(link.get('href'))\n",
    "    print(soup_link)\n",
    "    file.write(soup_link + '\\n')"
   ]
  },
  {
   "cell_type": "code",
   "execution_count": 78,
   "metadata": {},
   "outputs": [
    {
     "name": "stdout",
     "output_type": "stream",
     "text": [
      "https://skos.agh.edu.pl/\n",
      "https://www.agh.edu.pl/aktualnosci/detail/agh-space-systems-zwyciezca-kosmicznej-rywalizacji-erc-2022\n",
      "https://rekrutacja.agh.edu.pl/\n",
      "https://www.agh.edu.pl/nauka/artykuly/detail/agh-z-wysokimi-ocenami-w-ewaluacji-jakosci-dzialalnosci-naukowej\n",
      "https://www.agh.edu.pl/o-agh/multimedia/filmy\n",
      "https://spotkania.agh.edu.pl/nagrania/\n",
      "https://www.youtube.com/c/bunkiernauki\n",
      "https://idub.agh.edu.pl\n",
      "https://www.universeh.agh.edu.pl/\n",
      "https://www.goetel.agh.edu.pl/\n",
      "https://rekrutacja.agh.edu.pl/kierunki-studiow/\n",
      "https://podyplomowe.agh.edu.pl\n",
      "https://open.agh.edu.pl/\n",
      "https://bip.malopolska.pl/agh\n",
      "http://www.dzp.agh.edu.pl/\n",
      "https://www.promocja.agh.edu.pl/wspolpraca-z-mediami/\n",
      "https://www.promocja.agh.edu.pl/patronat-rektora-agh/\n",
      "https://sklep.agh.edu.pl/\n",
      "https://skos.agh.edu.pl\n",
      "https://bezpieczenstwo.agh.edu.pl/komunikaty-i-ostrzezenia/\n",
      "https://poczta.agh.edu.pl\n",
      "https://www.youtube.com/user/tvagh/\n",
      "https://www.facebook.com/AGH.Krakow\n",
      "https://pl.linkedin.com/edu/agh-university-of-science-and-technology-15906\n",
      "https://twitter.com/AGH_Krakow/\n",
      "https://www.instagram.com/agh.krakow/\n",
      "https://vm.tiktok.com/ZM8tR6cES/\n",
      "\n"
     ]
    }
   ],
   "source": [
    "file.seek(0,0)\n",
    "print(file.read())"
   ]
  },
  {
   "cell_type": "code",
   "execution_count": 75,
   "metadata": {},
   "outputs": [],
   "source": [
    "file.close()"
   ]
  }
 ],
 "metadata": {
  "kernelspec": {
   "display_name": "Python 3",
   "language": "python",
   "name": "python3"
  },
  "language_info": {
   "codemirror_mode": {
    "name": "ipython",
    "version": 3
   },
   "file_extension": ".py",
   "mimetype": "text/x-python",
   "name": "python",
   "nbconvert_exporter": "python",
   "pygments_lexer": "ipython3",
   "version": "3.6.10"
  }
 },
 "nbformat": 4,
 "nbformat_minor": 1
}
